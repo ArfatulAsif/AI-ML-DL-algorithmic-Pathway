{
 "cells": [
  {
   "cell_type": "code",
   "execution_count": 1,
   "id": "fc0bd5de",
   "metadata": {
    "_cell_guid": "b1076dfc-b9ad-4769-8c92-a6c4dae69d19",
    "_uuid": "8f2839f25d086af736a60e9eeb907d3b93b6e0e5",
    "execution": {
     "iopub.execute_input": "2025-02-25T19:29:37.091678Z",
     "iopub.status.busy": "2025-02-25T19:29:37.091379Z",
     "iopub.status.idle": "2025-02-25T19:29:38.379133Z",
     "shell.execute_reply": "2025-02-25T19:29:38.377106Z"
    },
    "papermill": {
     "duration": 1.297386,
     "end_time": "2025-02-25T19:29:38.381182",
     "exception": false,
     "start_time": "2025-02-25T19:29:37.083796",
     "status": "completed"
    },
    "tags": []
   },
   "outputs": [
    {
     "name": "stdout",
     "output_type": "stream",
     "text": [
      "/kaggle/input/titanic/train.csv\n",
      "/kaggle/input/titanic/test.csv\n",
      "/kaggle/input/titanic/gender_submission.csv\n"
     ]
    }
   ],
   "source": [
    "# This Python 3 environment comes with many helpful analytics libraries installed\n",
    "# It is defined by the kaggle/python Docker image: https://github.com/kaggle/docker-python\n",
    "# For example, here's several helpful packages to load\n",
    "\n",
    "import numpy as np # linear algebra\n",
    "import pandas as pd # data processing, CSV file I/O (e.g. pd.read_csv)\n",
    "\n",
    "# Input data files are available in the read-only \"../input/\" directory\n",
    "# For example, running this (by clicking run or pressing Shift+Enter) will list all files under the input directory\n",
    "\n",
    "import os\n",
    "for dirname, _, filenames in os.walk('/kaggle/input'):\n",
    "    for filename in filenames:\n",
    "        print(os.path.join(dirname, filename))\n",
    "\n",
    "# You can write up to 20GB to the current directory (/kaggle/working/) that gets preserved as output when you create a version using \"Save & Run All\" \n",
    "# You can also write temporary files to /kaggle/temp/, but they won't be saved outside of the current session"
   ]
  },
  {
   "cell_type": "code",
   "execution_count": 2,
   "id": "3271faa8",
   "metadata": {
    "execution": {
     "iopub.execute_input": "2025-02-25T19:29:38.392070Z",
     "iopub.status.busy": "2025-02-25T19:29:38.391330Z",
     "iopub.status.idle": "2025-02-25T19:29:41.241863Z",
     "shell.execute_reply": "2025-02-25T19:29:41.240029Z"
    },
    "papermill": {
     "duration": 2.858588,
     "end_time": "2025-02-25T19:29:41.244587",
     "exception": false,
     "start_time": "2025-02-25T19:29:38.385999",
     "status": "completed"
    },
    "tags": []
   },
   "outputs": [],
   "source": [
    "from sklearn.model_selection import train_test_split, learning_curve\n",
    "from sklearn.ensemble import RandomForestClassifier\n",
    "import matplotlib.pyplot as plt"
   ]
  },
  {
   "cell_type": "markdown",
   "id": "8b9f1cef",
   "metadata": {
    "papermill": {
     "duration": 0.004019,
     "end_time": "2025-02-25T19:29:41.253782",
     "exception": false,
     "start_time": "2025-02-25T19:29:41.249763",
     "status": "completed"
    },
    "tags": []
   },
   "source": [
    "Imports the **Pandas** library and assigns it the alias pd. Pandas is used for data manipulation and analysis, especially with tabular data.\n",
    "\n",
    "Imports the **NumPy** library as np. NumPy provides support for numerical operations and handling arrays, which is useful for computations and creating numerical ranges.\n",
    "\n",
    "Imports two utilities from scikit-learn’s model_selection module:\n",
    "**train_test_split:** Splits the dataset into training and testing (or validation) subsets.\n",
    "**learning_curve:** Computes the scores for different training set sizes, useful for visualizing how well the model learns as more data is used.\n",
    "\n",
    "Imports the **RandomForestClassifier** from scikit-learn’s ensemble module. This is the machine learning algorithm used to build an ensemble of decision trees.\n",
    "\n",
    "Imports the **Matplotlib** library’s pyplot module as plt. This module is used to create plots and visualizations."
   ]
  },
  {
   "cell_type": "code",
   "execution_count": 3,
   "id": "bd3e7d7d",
   "metadata": {
    "execution": {
     "iopub.execute_input": "2025-02-25T19:29:41.267339Z",
     "iopub.status.busy": "2025-02-25T19:29:41.266706Z",
     "iopub.status.idle": "2025-02-25T19:29:41.315716Z",
     "shell.execute_reply": "2025-02-25T19:29:41.313893Z"
    },
    "papermill": {
     "duration": 0.059382,
     "end_time": "2025-02-25T19:29:41.318872",
     "exception": false,
     "start_time": "2025-02-25T19:29:41.259490",
     "status": "completed"
    },
    "tags": []
   },
   "outputs": [
    {
     "data": {
      "text/html": [
       "<div>\n",
       "<style scoped>\n",
       "    .dataframe tbody tr th:only-of-type {\n",
       "        vertical-align: middle;\n",
       "    }\n",
       "\n",
       "    .dataframe tbody tr th {\n",
       "        vertical-align: top;\n",
       "    }\n",
       "\n",
       "    .dataframe thead th {\n",
       "        text-align: right;\n",
       "    }\n",
       "</style>\n",
       "<table border=\"1\" class=\"dataframe\">\n",
       "  <thead>\n",
       "    <tr style=\"text-align: right;\">\n",
       "      <th></th>\n",
       "      <th>PassengerId</th>\n",
       "      <th>Survived</th>\n",
       "      <th>Pclass</th>\n",
       "      <th>Name</th>\n",
       "      <th>Sex</th>\n",
       "      <th>Age</th>\n",
       "      <th>SibSp</th>\n",
       "      <th>Parch</th>\n",
       "      <th>Ticket</th>\n",
       "      <th>Fare</th>\n",
       "      <th>Cabin</th>\n",
       "      <th>Embarked</th>\n",
       "    </tr>\n",
       "  </thead>\n",
       "  <tbody>\n",
       "    <tr>\n",
       "      <th>0</th>\n",
       "      <td>1</td>\n",
       "      <td>0</td>\n",
       "      <td>3</td>\n",
       "      <td>Braund, Mr. Owen Harris</td>\n",
       "      <td>male</td>\n",
       "      <td>22.0</td>\n",
       "      <td>1</td>\n",
       "      <td>0</td>\n",
       "      <td>A/5 21171</td>\n",
       "      <td>7.2500</td>\n",
       "      <td>NaN</td>\n",
       "      <td>S</td>\n",
       "    </tr>\n",
       "    <tr>\n",
       "      <th>1</th>\n",
       "      <td>2</td>\n",
       "      <td>1</td>\n",
       "      <td>1</td>\n",
       "      <td>Cumings, Mrs. John Bradley (Florence Briggs Th...</td>\n",
       "      <td>female</td>\n",
       "      <td>38.0</td>\n",
       "      <td>1</td>\n",
       "      <td>0</td>\n",
       "      <td>PC 17599</td>\n",
       "      <td>71.2833</td>\n",
       "      <td>C85</td>\n",
       "      <td>C</td>\n",
       "    </tr>\n",
       "    <tr>\n",
       "      <th>2</th>\n",
       "      <td>3</td>\n",
       "      <td>1</td>\n",
       "      <td>3</td>\n",
       "      <td>Heikkinen, Miss. Laina</td>\n",
       "      <td>female</td>\n",
       "      <td>26.0</td>\n",
       "      <td>0</td>\n",
       "      <td>0</td>\n",
       "      <td>STON/O2. 3101282</td>\n",
       "      <td>7.9250</td>\n",
       "      <td>NaN</td>\n",
       "      <td>S</td>\n",
       "    </tr>\n",
       "    <tr>\n",
       "      <th>3</th>\n",
       "      <td>4</td>\n",
       "      <td>1</td>\n",
       "      <td>1</td>\n",
       "      <td>Futrelle, Mrs. Jacques Heath (Lily May Peel)</td>\n",
       "      <td>female</td>\n",
       "      <td>35.0</td>\n",
       "      <td>1</td>\n",
       "      <td>0</td>\n",
       "      <td>113803</td>\n",
       "      <td>53.1000</td>\n",
       "      <td>C123</td>\n",
       "      <td>S</td>\n",
       "    </tr>\n",
       "    <tr>\n",
       "      <th>4</th>\n",
       "      <td>5</td>\n",
       "      <td>0</td>\n",
       "      <td>3</td>\n",
       "      <td>Allen, Mr. William Henry</td>\n",
       "      <td>male</td>\n",
       "      <td>35.0</td>\n",
       "      <td>0</td>\n",
       "      <td>0</td>\n",
       "      <td>373450</td>\n",
       "      <td>8.0500</td>\n",
       "      <td>NaN</td>\n",
       "      <td>S</td>\n",
       "    </tr>\n",
       "  </tbody>\n",
       "</table>\n",
       "</div>"
      ],
      "text/plain": [
       "   PassengerId  Survived  Pclass  \\\n",
       "0            1         0       3   \n",
       "1            2         1       1   \n",
       "2            3         1       3   \n",
       "3            4         1       1   \n",
       "4            5         0       3   \n",
       "\n",
       "                                                Name     Sex   Age  SibSp  \\\n",
       "0                            Braund, Mr. Owen Harris    male  22.0      1   \n",
       "1  Cumings, Mrs. John Bradley (Florence Briggs Th...  female  38.0      1   \n",
       "2                             Heikkinen, Miss. Laina  female  26.0      0   \n",
       "3       Futrelle, Mrs. Jacques Heath (Lily May Peel)  female  35.0      1   \n",
       "4                           Allen, Mr. William Henry    male  35.0      0   \n",
       "\n",
       "   Parch            Ticket     Fare Cabin Embarked  \n",
       "0      0         A/5 21171   7.2500   NaN        S  \n",
       "1      0          PC 17599  71.2833   C85        C  \n",
       "2      0  STON/O2. 3101282   7.9250   NaN        S  \n",
       "3      0            113803  53.1000  C123        S  \n",
       "4      0            373450   8.0500   NaN        S  "
      ]
     },
     "execution_count": 3,
     "metadata": {},
     "output_type": "execute_result"
    }
   ],
   "source": [
    "data = pd.read_csv('/kaggle/input/titanic/train.csv')\n",
    "data.head(5)"
   ]
  },
  {
   "cell_type": "markdown",
   "id": "f0aac792",
   "metadata": {
    "papermill": {
     "duration": 0.004028,
     "end_time": "2025-02-25T19:29:41.328011",
     "exception": false,
     "start_time": "2025-02-25T19:29:41.323983",
     "status": "completed"
    },
    "tags": []
   },
   "source": [
    "Reads the train.csv file (from the Kaggle Titanic dataset) into a Pandas DataFrame named data. This file contains the data used for training the model."
   ]
  },
  {
   "cell_type": "code",
   "execution_count": 4,
   "id": "884497f6",
   "metadata": {
    "execution": {
     "iopub.execute_input": "2025-02-25T19:29:41.340002Z",
     "iopub.status.busy": "2025-02-25T19:29:41.339572Z",
     "iopub.status.idle": "2025-02-25T19:29:41.366757Z",
     "shell.execute_reply": "2025-02-25T19:29:41.364791Z"
    },
    "papermill": {
     "duration": 0.035601,
     "end_time": "2025-02-25T19:29:41.368763",
     "exception": false,
     "start_time": "2025-02-25T19:29:41.333162",
     "status": "completed"
    },
    "tags": []
   },
   "outputs": [
    {
     "data": {
      "text/html": [
       "<div>\n",
       "<style scoped>\n",
       "    .dataframe tbody tr th:only-of-type {\n",
       "        vertical-align: middle;\n",
       "    }\n",
       "\n",
       "    .dataframe tbody tr th {\n",
       "        vertical-align: top;\n",
       "    }\n",
       "\n",
       "    .dataframe thead th {\n",
       "        text-align: right;\n",
       "    }\n",
       "</style>\n",
       "<table border=\"1\" class=\"dataframe\">\n",
       "  <thead>\n",
       "    <tr style=\"text-align: right;\">\n",
       "      <th></th>\n",
       "      <th>PassengerId</th>\n",
       "      <th>Survived</th>\n",
       "      <th>Pclass</th>\n",
       "      <th>Name</th>\n",
       "      <th>Sex</th>\n",
       "      <th>Age</th>\n",
       "      <th>SibSp</th>\n",
       "      <th>Parch</th>\n",
       "      <th>Ticket</th>\n",
       "      <th>Fare</th>\n",
       "      <th>Cabin</th>\n",
       "      <th>Embarked</th>\n",
       "    </tr>\n",
       "  </thead>\n",
       "  <tbody>\n",
       "    <tr>\n",
       "      <th>0</th>\n",
       "      <td>1</td>\n",
       "      <td>0</td>\n",
       "      <td>3</td>\n",
       "      <td>Braund, Mr. Owen Harris</td>\n",
       "      <td>male</td>\n",
       "      <td>22.0</td>\n",
       "      <td>1</td>\n",
       "      <td>0</td>\n",
       "      <td>A/5 21171</td>\n",
       "      <td>7.2500</td>\n",
       "      <td>B96 B98</td>\n",
       "      <td>S</td>\n",
       "    </tr>\n",
       "    <tr>\n",
       "      <th>1</th>\n",
       "      <td>2</td>\n",
       "      <td>1</td>\n",
       "      <td>1</td>\n",
       "      <td>Cumings, Mrs. John Bradley (Florence Briggs Th...</td>\n",
       "      <td>female</td>\n",
       "      <td>38.0</td>\n",
       "      <td>1</td>\n",
       "      <td>0</td>\n",
       "      <td>PC 17599</td>\n",
       "      <td>71.2833</td>\n",
       "      <td>C85</td>\n",
       "      <td>C</td>\n",
       "    </tr>\n",
       "    <tr>\n",
       "      <th>2</th>\n",
       "      <td>3</td>\n",
       "      <td>1</td>\n",
       "      <td>3</td>\n",
       "      <td>Heikkinen, Miss. Laina</td>\n",
       "      <td>female</td>\n",
       "      <td>26.0</td>\n",
       "      <td>0</td>\n",
       "      <td>0</td>\n",
       "      <td>STON/O2. 3101282</td>\n",
       "      <td>7.9250</td>\n",
       "      <td>B96 B98</td>\n",
       "      <td>S</td>\n",
       "    </tr>\n",
       "    <tr>\n",
       "      <th>3</th>\n",
       "      <td>4</td>\n",
       "      <td>1</td>\n",
       "      <td>1</td>\n",
       "      <td>Futrelle, Mrs. Jacques Heath (Lily May Peel)</td>\n",
       "      <td>female</td>\n",
       "      <td>35.0</td>\n",
       "      <td>1</td>\n",
       "      <td>0</td>\n",
       "      <td>113803</td>\n",
       "      <td>53.1000</td>\n",
       "      <td>C123</td>\n",
       "      <td>S</td>\n",
       "    </tr>\n",
       "    <tr>\n",
       "      <th>4</th>\n",
       "      <td>5</td>\n",
       "      <td>0</td>\n",
       "      <td>3</td>\n",
       "      <td>Allen, Mr. William Henry</td>\n",
       "      <td>male</td>\n",
       "      <td>35.0</td>\n",
       "      <td>0</td>\n",
       "      <td>0</td>\n",
       "      <td>373450</td>\n",
       "      <td>8.0500</td>\n",
       "      <td>B96 B98</td>\n",
       "      <td>S</td>\n",
       "    </tr>\n",
       "    <tr>\n",
       "      <th>5</th>\n",
       "      <td>6</td>\n",
       "      <td>0</td>\n",
       "      <td>3</td>\n",
       "      <td>Moran, Mr. James</td>\n",
       "      <td>male</td>\n",
       "      <td>28.0</td>\n",
       "      <td>0</td>\n",
       "      <td>0</td>\n",
       "      <td>330877</td>\n",
       "      <td>8.4583</td>\n",
       "      <td>B96 B98</td>\n",
       "      <td>Q</td>\n",
       "    </tr>\n",
       "    <tr>\n",
       "      <th>6</th>\n",
       "      <td>7</td>\n",
       "      <td>0</td>\n",
       "      <td>1</td>\n",
       "      <td>McCarthy, Mr. Timothy J</td>\n",
       "      <td>male</td>\n",
       "      <td>54.0</td>\n",
       "      <td>0</td>\n",
       "      <td>0</td>\n",
       "      <td>17463</td>\n",
       "      <td>51.8625</td>\n",
       "      <td>E46</td>\n",
       "      <td>S</td>\n",
       "    </tr>\n",
       "    <tr>\n",
       "      <th>7</th>\n",
       "      <td>8</td>\n",
       "      <td>0</td>\n",
       "      <td>3</td>\n",
       "      <td>Palsson, Master. Gosta Leonard</td>\n",
       "      <td>male</td>\n",
       "      <td>2.0</td>\n",
       "      <td>3</td>\n",
       "      <td>1</td>\n",
       "      <td>349909</td>\n",
       "      <td>21.0750</td>\n",
       "      <td>B96 B98</td>\n",
       "      <td>S</td>\n",
       "    </tr>\n",
       "    <tr>\n",
       "      <th>8</th>\n",
       "      <td>9</td>\n",
       "      <td>1</td>\n",
       "      <td>3</td>\n",
       "      <td>Johnson, Mrs. Oscar W (Elisabeth Vilhelmina Berg)</td>\n",
       "      <td>female</td>\n",
       "      <td>27.0</td>\n",
       "      <td>0</td>\n",
       "      <td>2</td>\n",
       "      <td>347742</td>\n",
       "      <td>11.1333</td>\n",
       "      <td>B96 B98</td>\n",
       "      <td>S</td>\n",
       "    </tr>\n",
       "    <tr>\n",
       "      <th>9</th>\n",
       "      <td>10</td>\n",
       "      <td>1</td>\n",
       "      <td>2</td>\n",
       "      <td>Nasser, Mrs. Nicholas (Adele Achem)</td>\n",
       "      <td>female</td>\n",
       "      <td>14.0</td>\n",
       "      <td>1</td>\n",
       "      <td>0</td>\n",
       "      <td>237736</td>\n",
       "      <td>30.0708</td>\n",
       "      <td>B96 B98</td>\n",
       "      <td>C</td>\n",
       "    </tr>\n",
       "  </tbody>\n",
       "</table>\n",
       "</div>"
      ],
      "text/plain": [
       "   PassengerId  Survived  Pclass  \\\n",
       "0            1         0       3   \n",
       "1            2         1       1   \n",
       "2            3         1       3   \n",
       "3            4         1       1   \n",
       "4            5         0       3   \n",
       "5            6         0       3   \n",
       "6            7         0       1   \n",
       "7            8         0       3   \n",
       "8            9         1       3   \n",
       "9           10         1       2   \n",
       "\n",
       "                                                Name     Sex   Age  SibSp  \\\n",
       "0                            Braund, Mr. Owen Harris    male  22.0      1   \n",
       "1  Cumings, Mrs. John Bradley (Florence Briggs Th...  female  38.0      1   \n",
       "2                             Heikkinen, Miss. Laina  female  26.0      0   \n",
       "3       Futrelle, Mrs. Jacques Heath (Lily May Peel)  female  35.0      1   \n",
       "4                           Allen, Mr. William Henry    male  35.0      0   \n",
       "5                                   Moran, Mr. James    male  28.0      0   \n",
       "6                            McCarthy, Mr. Timothy J    male  54.0      0   \n",
       "7                     Palsson, Master. Gosta Leonard    male   2.0      3   \n",
       "8  Johnson, Mrs. Oscar W (Elisabeth Vilhelmina Berg)  female  27.0      0   \n",
       "9                Nasser, Mrs. Nicholas (Adele Achem)  female  14.0      1   \n",
       "\n",
       "   Parch            Ticket     Fare    Cabin Embarked  \n",
       "0      0         A/5 21171   7.2500  B96 B98        S  \n",
       "1      0          PC 17599  71.2833      C85        C  \n",
       "2      0  STON/O2. 3101282   7.9250  B96 B98        S  \n",
       "3      0            113803  53.1000     C123        S  \n",
       "4      0            373450   8.0500  B96 B98        S  \n",
       "5      0            330877   8.4583  B96 B98        Q  \n",
       "6      0             17463  51.8625      E46        S  \n",
       "7      1            349909  21.0750  B96 B98        S  \n",
       "8      2            347742  11.1333  B96 B98        S  \n",
       "9      0            237736  30.0708  B96 B98        C  "
      ]
     },
     "execution_count": 4,
     "metadata": {},
     "output_type": "execute_result"
    }
   ],
   "source": [
    "# Fill missing values\n",
    "data['Age'] = data['Age'].fillna(data['Age'].median())\n",
    "data['Embarked'] = data['Embarked'].fillna(data['Embarked'].mode()[0])\n",
    "data['Cabin'] = data['Cabin'].fillna(data['Cabin'].mode()[0])\n",
    "data.head(10)"
   ]
  },
  {
   "cell_type": "markdown",
   "id": "8873e4b1",
   "metadata": {
    "papermill": {
     "duration": 0.004059,
     "end_time": "2025-02-25T19:29:41.377844",
     "exception": false,
     "start_time": "2025-02-25T19:29:41.373785",
     "status": "completed"
    },
    "tags": []
   },
   "source": [
    "Replaces missing values in the Age column with the median age value.\n",
    "Fills missing values in the Embarked column with the mode (most frequently occurring value)."
   ]
  },
  {
   "cell_type": "code",
   "execution_count": 5,
   "id": "ef662ef4",
   "metadata": {
    "execution": {
     "iopub.execute_input": "2025-02-25T19:29:41.388211Z",
     "iopub.status.busy": "2025-02-25T19:29:41.387700Z",
     "iopub.status.idle": "2025-02-25T19:29:41.415275Z",
     "shell.execute_reply": "2025-02-25T19:29:41.413924Z"
    },
    "papermill": {
     "duration": 0.034911,
     "end_time": "2025-02-25T19:29:41.417110",
     "exception": false,
     "start_time": "2025-02-25T19:29:41.382199",
     "status": "completed"
    },
    "tags": []
   },
   "outputs": [
    {
     "data": {
      "text/html": [
       "<div>\n",
       "<style scoped>\n",
       "    .dataframe tbody tr th:only-of-type {\n",
       "        vertical-align: middle;\n",
       "    }\n",
       "\n",
       "    .dataframe tbody tr th {\n",
       "        vertical-align: top;\n",
       "    }\n",
       "\n",
       "    .dataframe thead th {\n",
       "        text-align: right;\n",
       "    }\n",
       "</style>\n",
       "<table border=\"1\" class=\"dataframe\">\n",
       "  <thead>\n",
       "    <tr style=\"text-align: right;\">\n",
       "      <th></th>\n",
       "      <th>PassengerId</th>\n",
       "      <th>Survived</th>\n",
       "      <th>Pclass</th>\n",
       "      <th>Sex</th>\n",
       "      <th>Age</th>\n",
       "      <th>SibSp</th>\n",
       "      <th>Parch</th>\n",
       "      <th>Fare</th>\n",
       "      <th>Embarked</th>\n",
       "    </tr>\n",
       "  </thead>\n",
       "  <tbody>\n",
       "    <tr>\n",
       "      <th>0</th>\n",
       "      <td>1</td>\n",
       "      <td>0</td>\n",
       "      <td>3</td>\n",
       "      <td>male</td>\n",
       "      <td>22.0</td>\n",
       "      <td>1</td>\n",
       "      <td>0</td>\n",
       "      <td>7.2500</td>\n",
       "      <td>S</td>\n",
       "    </tr>\n",
       "    <tr>\n",
       "      <th>1</th>\n",
       "      <td>2</td>\n",
       "      <td>1</td>\n",
       "      <td>1</td>\n",
       "      <td>female</td>\n",
       "      <td>38.0</td>\n",
       "      <td>1</td>\n",
       "      <td>0</td>\n",
       "      <td>71.2833</td>\n",
       "      <td>C</td>\n",
       "    </tr>\n",
       "    <tr>\n",
       "      <th>2</th>\n",
       "      <td>3</td>\n",
       "      <td>1</td>\n",
       "      <td>3</td>\n",
       "      <td>female</td>\n",
       "      <td>26.0</td>\n",
       "      <td>0</td>\n",
       "      <td>0</td>\n",
       "      <td>7.9250</td>\n",
       "      <td>S</td>\n",
       "    </tr>\n",
       "    <tr>\n",
       "      <th>3</th>\n",
       "      <td>4</td>\n",
       "      <td>1</td>\n",
       "      <td>1</td>\n",
       "      <td>female</td>\n",
       "      <td>35.0</td>\n",
       "      <td>1</td>\n",
       "      <td>0</td>\n",
       "      <td>53.1000</td>\n",
       "      <td>S</td>\n",
       "    </tr>\n",
       "    <tr>\n",
       "      <th>4</th>\n",
       "      <td>5</td>\n",
       "      <td>0</td>\n",
       "      <td>3</td>\n",
       "      <td>male</td>\n",
       "      <td>35.0</td>\n",
       "      <td>0</td>\n",
       "      <td>0</td>\n",
       "      <td>8.0500</td>\n",
       "      <td>S</td>\n",
       "    </tr>\n",
       "  </tbody>\n",
       "</table>\n",
       "</div>"
      ],
      "text/plain": [
       "   PassengerId  Survived  Pclass     Sex   Age  SibSp  Parch     Fare Embarked\n",
       "0            1         0       3    male  22.0      1      0   7.2500        S\n",
       "1            2         1       1  female  38.0      1      0  71.2833        C\n",
       "2            3         1       3  female  26.0      0      0   7.9250        S\n",
       "3            4         1       1  female  35.0      1      0  53.1000        S\n",
       "4            5         0       3    male  35.0      0      0   8.0500        S"
      ]
     },
     "execution_count": 5,
     "metadata": {},
     "output_type": "execute_result"
    }
   ],
   "source": [
    "data = data.drop(['Name','Ticket','Cabin'], axis=1)\n",
    "data.head(5)"
   ]
  },
  {
   "cell_type": "markdown",
   "id": "d4f7831e",
   "metadata": {
    "papermill": {
     "duration": 0.004515,
     "end_time": "2025-02-25T19:29:41.426571",
     "exception": false,
     "start_time": "2025-02-25T19:29:41.422056",
     "status": "completed"
    },
    "tags": []
   },
   "source": [
    "Drops columns Ticket, and Name from the DataFrame. These columns are considered less useful for prediction in this context. The parameter axis=1 indicates that columns (not rows) are being dropped."
   ]
  },
  {
   "cell_type": "code",
   "execution_count": 6,
   "id": "7312944c",
   "metadata": {
    "execution": {
     "iopub.execute_input": "2025-02-25T19:29:41.438579Z",
     "iopub.status.busy": "2025-02-25T19:29:41.438082Z",
     "iopub.status.idle": "2025-02-25T19:29:41.454341Z",
     "shell.execute_reply": "2025-02-25T19:29:41.452924Z"
    },
    "papermill": {
     "duration": 0.023602,
     "end_time": "2025-02-25T19:29:41.455468",
     "exception": false,
     "start_time": "2025-02-25T19:29:41.431866",
     "status": "completed"
    },
    "tags": []
   },
   "outputs": [
    {
     "name": "stdout",
     "output_type": "stream",
     "text": [
      "Unique values before: ['male' 'female']\n"
     ]
    },
    {
     "data": {
      "text/html": [
       "<div>\n",
       "<style scoped>\n",
       "    .dataframe tbody tr th:only-of-type {\n",
       "        vertical-align: middle;\n",
       "    }\n",
       "\n",
       "    .dataframe tbody tr th {\n",
       "        vertical-align: top;\n",
       "    }\n",
       "\n",
       "    .dataframe thead th {\n",
       "        text-align: right;\n",
       "    }\n",
       "</style>\n",
       "<table border=\"1\" class=\"dataframe\">\n",
       "  <thead>\n",
       "    <tr style=\"text-align: right;\">\n",
       "      <th></th>\n",
       "      <th>PassengerId</th>\n",
       "      <th>Survived</th>\n",
       "      <th>Pclass</th>\n",
       "      <th>Sex</th>\n",
       "      <th>Age</th>\n",
       "      <th>SibSp</th>\n",
       "      <th>Parch</th>\n",
       "      <th>Fare</th>\n",
       "      <th>Embarked</th>\n",
       "    </tr>\n",
       "  </thead>\n",
       "  <tbody>\n",
       "    <tr>\n",
       "      <th>0</th>\n",
       "      <td>1</td>\n",
       "      <td>0</td>\n",
       "      <td>3</td>\n",
       "      <td>0</td>\n",
       "      <td>22.0</td>\n",
       "      <td>1</td>\n",
       "      <td>0</td>\n",
       "      <td>7.2500</td>\n",
       "      <td>S</td>\n",
       "    </tr>\n",
       "    <tr>\n",
       "      <th>1</th>\n",
       "      <td>2</td>\n",
       "      <td>1</td>\n",
       "      <td>1</td>\n",
       "      <td>1</td>\n",
       "      <td>38.0</td>\n",
       "      <td>1</td>\n",
       "      <td>0</td>\n",
       "      <td>71.2833</td>\n",
       "      <td>C</td>\n",
       "    </tr>\n",
       "    <tr>\n",
       "      <th>2</th>\n",
       "      <td>3</td>\n",
       "      <td>1</td>\n",
       "      <td>3</td>\n",
       "      <td>1</td>\n",
       "      <td>26.0</td>\n",
       "      <td>0</td>\n",
       "      <td>0</td>\n",
       "      <td>7.9250</td>\n",
       "      <td>S</td>\n",
       "    </tr>\n",
       "    <tr>\n",
       "      <th>3</th>\n",
       "      <td>4</td>\n",
       "      <td>1</td>\n",
       "      <td>1</td>\n",
       "      <td>1</td>\n",
       "      <td>35.0</td>\n",
       "      <td>1</td>\n",
       "      <td>0</td>\n",
       "      <td>53.1000</td>\n",
       "      <td>S</td>\n",
       "    </tr>\n",
       "    <tr>\n",
       "      <th>4</th>\n",
       "      <td>5</td>\n",
       "      <td>0</td>\n",
       "      <td>3</td>\n",
       "      <td>0</td>\n",
       "      <td>35.0</td>\n",
       "      <td>0</td>\n",
       "      <td>0</td>\n",
       "      <td>8.0500</td>\n",
       "      <td>S</td>\n",
       "    </tr>\n",
       "  </tbody>\n",
       "</table>\n",
       "</div>"
      ],
      "text/plain": [
       "   PassengerId  Survived  Pclass  Sex   Age  SibSp  Parch     Fare Embarked\n",
       "0            1         0       3    0  22.0      1      0   7.2500        S\n",
       "1            2         1       1    1  38.0      1      0  71.2833        C\n",
       "2            3         1       3    1  26.0      0      0   7.9250        S\n",
       "3            4         1       1    1  35.0      1      0  53.1000        S\n",
       "4            5         0       3    0  35.0      0      0   8.0500        S"
      ]
     },
     "execution_count": 6,
     "metadata": {},
     "output_type": "execute_result"
    }
   ],
   "source": [
    "print(\"Unique values before:\", data['Sex'].unique())\n",
    "data['Sex'] = data['Sex'].astype(str).str.lower().map({'male': 0, 'female': 1})\n",
    "data.head(5)"
   ]
  },
  {
   "cell_type": "markdown",
   "id": "1bd1efcc",
   "metadata": {
    "papermill": {
     "duration": 0.004264,
     "end_time": "2025-02-25T19:29:41.464800",
     "exception": false,
     "start_time": "2025-02-25T19:29:41.460536",
     "status": "completed"
    },
    "tags": []
   },
   "source": [
    "Converts the Sex column into numeric form by mapping 'male' to 0 and 'female' to 1, making it suitable for model training."
   ]
  },
  {
   "cell_type": "code",
   "execution_count": 7,
   "id": "7267a7bc",
   "metadata": {
    "execution": {
     "iopub.execute_input": "2025-02-25T19:29:41.475498Z",
     "iopub.status.busy": "2025-02-25T19:29:41.474979Z",
     "iopub.status.idle": "2025-02-25T19:29:41.501175Z",
     "shell.execute_reply": "2025-02-25T19:29:41.499377Z"
    },
    "papermill": {
     "duration": 0.033916,
     "end_time": "2025-02-25T19:29:41.503186",
     "exception": false,
     "start_time": "2025-02-25T19:29:41.469270",
     "status": "completed"
    },
    "tags": []
   },
   "outputs": [
    {
     "data": {
      "text/html": [
       "<div>\n",
       "<style scoped>\n",
       "    .dataframe tbody tr th:only-of-type {\n",
       "        vertical-align: middle;\n",
       "    }\n",
       "\n",
       "    .dataframe tbody tr th {\n",
       "        vertical-align: top;\n",
       "    }\n",
       "\n",
       "    .dataframe thead th {\n",
       "        text-align: right;\n",
       "    }\n",
       "</style>\n",
       "<table border=\"1\" class=\"dataframe\">\n",
       "  <thead>\n",
       "    <tr style=\"text-align: right;\">\n",
       "      <th></th>\n",
       "      <th>PassengerId</th>\n",
       "      <th>Survived</th>\n",
       "      <th>Pclass</th>\n",
       "      <th>Sex</th>\n",
       "      <th>Age</th>\n",
       "      <th>SibSp</th>\n",
       "      <th>Parch</th>\n",
       "      <th>Fare</th>\n",
       "      <th>Embarked_Q</th>\n",
       "      <th>Embarked_S</th>\n",
       "    </tr>\n",
       "  </thead>\n",
       "  <tbody>\n",
       "    <tr>\n",
       "      <th>0</th>\n",
       "      <td>1</td>\n",
       "      <td>0</td>\n",
       "      <td>3</td>\n",
       "      <td>0</td>\n",
       "      <td>22.0</td>\n",
       "      <td>1</td>\n",
       "      <td>0</td>\n",
       "      <td>7.2500</td>\n",
       "      <td>False</td>\n",
       "      <td>True</td>\n",
       "    </tr>\n",
       "    <tr>\n",
       "      <th>1</th>\n",
       "      <td>2</td>\n",
       "      <td>1</td>\n",
       "      <td>1</td>\n",
       "      <td>1</td>\n",
       "      <td>38.0</td>\n",
       "      <td>1</td>\n",
       "      <td>0</td>\n",
       "      <td>71.2833</td>\n",
       "      <td>False</td>\n",
       "      <td>False</td>\n",
       "    </tr>\n",
       "    <tr>\n",
       "      <th>2</th>\n",
       "      <td>3</td>\n",
       "      <td>1</td>\n",
       "      <td>3</td>\n",
       "      <td>1</td>\n",
       "      <td>26.0</td>\n",
       "      <td>0</td>\n",
       "      <td>0</td>\n",
       "      <td>7.9250</td>\n",
       "      <td>False</td>\n",
       "      <td>True</td>\n",
       "    </tr>\n",
       "    <tr>\n",
       "      <th>3</th>\n",
       "      <td>4</td>\n",
       "      <td>1</td>\n",
       "      <td>1</td>\n",
       "      <td>1</td>\n",
       "      <td>35.0</td>\n",
       "      <td>1</td>\n",
       "      <td>0</td>\n",
       "      <td>53.1000</td>\n",
       "      <td>False</td>\n",
       "      <td>True</td>\n",
       "    </tr>\n",
       "    <tr>\n",
       "      <th>4</th>\n",
       "      <td>5</td>\n",
       "      <td>0</td>\n",
       "      <td>3</td>\n",
       "      <td>0</td>\n",
       "      <td>35.0</td>\n",
       "      <td>0</td>\n",
       "      <td>0</td>\n",
       "      <td>8.0500</td>\n",
       "      <td>False</td>\n",
       "      <td>True</td>\n",
       "    </tr>\n",
       "  </tbody>\n",
       "</table>\n",
       "</div>"
      ],
      "text/plain": [
       "   PassengerId  Survived  Pclass  Sex   Age  SibSp  Parch     Fare  \\\n",
       "0            1         0       3    0  22.0      1      0   7.2500   \n",
       "1            2         1       1    1  38.0      1      0  71.2833   \n",
       "2            3         1       3    1  26.0      0      0   7.9250   \n",
       "3            4         1       1    1  35.0      1      0  53.1000   \n",
       "4            5         0       3    0  35.0      0      0   8.0500   \n",
       "\n",
       "   Embarked_Q  Embarked_S  \n",
       "0       False        True  \n",
       "1       False       False  \n",
       "2       False        True  \n",
       "3       False        True  \n",
       "4       False        True  "
      ]
     },
     "execution_count": 7,
     "metadata": {},
     "output_type": "execute_result"
    }
   ],
   "source": [
    "data = pd.get_dummies(data, columns=['Embarked'], drop_first=True)\n",
    "data.head(5)"
   ]
  },
  {
   "cell_type": "markdown",
   "id": "bed149df",
   "metadata": {
    "papermill": {
     "duration": 0.004442,
     "end_time": "2025-02-25T19:29:41.512815",
     "exception": false,
     "start_time": "2025-02-25T19:29:41.508373",
     "status": "completed"
    },
    "tags": []
   },
   "source": [
    "Applies *one-hot encoding to the Embarked column*, converting categorical port names into binary (dummy) variables. The parameter drop_first=True avoids redundancy by dropping the first dummy variable."
   ]
  },
  {
   "cell_type": "code",
   "execution_count": 8,
   "id": "6feac7ac",
   "metadata": {
    "execution": {
     "iopub.execute_input": "2025-02-25T19:29:41.524399Z",
     "iopub.status.busy": "2025-02-25T19:29:41.523869Z",
     "iopub.status.idle": "2025-02-25T19:29:41.539735Z",
     "shell.execute_reply": "2025-02-25T19:29:41.538032Z"
    },
    "papermill": {
     "duration": 0.023584,
     "end_time": "2025-02-25T19:29:41.541256",
     "exception": false,
     "start_time": "2025-02-25T19:29:41.517672",
     "status": "completed"
    },
    "tags": []
   },
   "outputs": [
    {
     "data": {
      "text/html": [
       "<div>\n",
       "<style scoped>\n",
       "    .dataframe tbody tr th:only-of-type {\n",
       "        vertical-align: middle;\n",
       "    }\n",
       "\n",
       "    .dataframe tbody tr th {\n",
       "        vertical-align: top;\n",
       "    }\n",
       "\n",
       "    .dataframe thead th {\n",
       "        text-align: right;\n",
       "    }\n",
       "</style>\n",
       "<table border=\"1\" class=\"dataframe\">\n",
       "  <thead>\n",
       "    <tr style=\"text-align: right;\">\n",
       "      <th></th>\n",
       "      <th>Pclass</th>\n",
       "      <th>Sex</th>\n",
       "      <th>Age</th>\n",
       "      <th>SibSp</th>\n",
       "      <th>Parch</th>\n",
       "      <th>Fare</th>\n",
       "      <th>Embarked_Q</th>\n",
       "      <th>Embarked_S</th>\n",
       "    </tr>\n",
       "  </thead>\n",
       "  <tbody>\n",
       "    <tr>\n",
       "      <th>0</th>\n",
       "      <td>3</td>\n",
       "      <td>0</td>\n",
       "      <td>22.0</td>\n",
       "      <td>1</td>\n",
       "      <td>0</td>\n",
       "      <td>7.2500</td>\n",
       "      <td>False</td>\n",
       "      <td>True</td>\n",
       "    </tr>\n",
       "    <tr>\n",
       "      <th>1</th>\n",
       "      <td>1</td>\n",
       "      <td>1</td>\n",
       "      <td>38.0</td>\n",
       "      <td>1</td>\n",
       "      <td>0</td>\n",
       "      <td>71.2833</td>\n",
       "      <td>False</td>\n",
       "      <td>False</td>\n",
       "    </tr>\n",
       "    <tr>\n",
       "      <th>2</th>\n",
       "      <td>3</td>\n",
       "      <td>1</td>\n",
       "      <td>26.0</td>\n",
       "      <td>0</td>\n",
       "      <td>0</td>\n",
       "      <td>7.9250</td>\n",
       "      <td>False</td>\n",
       "      <td>True</td>\n",
       "    </tr>\n",
       "    <tr>\n",
       "      <th>3</th>\n",
       "      <td>1</td>\n",
       "      <td>1</td>\n",
       "      <td>35.0</td>\n",
       "      <td>1</td>\n",
       "      <td>0</td>\n",
       "      <td>53.1000</td>\n",
       "      <td>False</td>\n",
       "      <td>True</td>\n",
       "    </tr>\n",
       "    <tr>\n",
       "      <th>4</th>\n",
       "      <td>3</td>\n",
       "      <td>0</td>\n",
       "      <td>35.0</td>\n",
       "      <td>0</td>\n",
       "      <td>0</td>\n",
       "      <td>8.0500</td>\n",
       "      <td>False</td>\n",
       "      <td>True</td>\n",
       "    </tr>\n",
       "  </tbody>\n",
       "</table>\n",
       "</div>"
      ],
      "text/plain": [
       "   Pclass  Sex   Age  SibSp  Parch     Fare  Embarked_Q  Embarked_S\n",
       "0       3    0  22.0      1      0   7.2500       False        True\n",
       "1       1    1  38.0      1      0  71.2833       False       False\n",
       "2       3    1  26.0      0      0   7.9250       False        True\n",
       "3       1    1  35.0      1      0  53.1000       False        True\n",
       "4       3    0  35.0      0      0   8.0500       False        True"
      ]
     },
     "execution_count": 8,
     "metadata": {},
     "output_type": "execute_result"
    }
   ],
   "source": [
    "X = data.drop(['PassengerId', 'Survived'], axis=1)\n",
    "X.head(5)"
   ]
  },
  {
   "cell_type": "markdown",
   "id": "1eb07a51",
   "metadata": {
    "papermill": {
     "duration": 0.004761,
     "end_time": "2025-02-25T19:29:41.551147",
     "exception": false,
     "start_time": "2025-02-25T19:29:41.546386",
     "status": "completed"
    },
    "tags": []
   },
   "source": [
    "Creates a DataFrame X containing the feature variables by dropping the PassengerId (an identifier) and Survived (the target variable) columns from the data."
   ]
  },
  {
   "cell_type": "code",
   "execution_count": 9,
   "id": "0be1a241",
   "metadata": {
    "execution": {
     "iopub.execute_input": "2025-02-25T19:29:41.562485Z",
     "iopub.status.busy": "2025-02-25T19:29:41.562012Z",
     "iopub.status.idle": "2025-02-25T19:29:41.569336Z",
     "shell.execute_reply": "2025-02-25T19:29:41.567669Z"
    },
    "papermill": {
     "duration": 0.015324,
     "end_time": "2025-02-25T19:29:41.571147",
     "exception": false,
     "start_time": "2025-02-25T19:29:41.555823",
     "status": "completed"
    },
    "tags": []
   },
   "outputs": [
    {
     "data": {
      "text/plain": [
       "0    0\n",
       "1    1\n",
       "2    1\n",
       "3    1\n",
       "4    0\n",
       "Name: Survived, dtype: int64"
      ]
     },
     "execution_count": 9,
     "metadata": {},
     "output_type": "execute_result"
    }
   ],
   "source": [
    "y = data['Survived']\n",
    "y.head(5)"
   ]
  },
  {
   "cell_type": "markdown",
   "id": "fca34f9f",
   "metadata": {
    "papermill": {
     "duration": 0.004684,
     "end_time": "2025-02-25T19:29:41.581109",
     "exception": false,
     "start_time": "2025-02-25T19:29:41.576425",
     "status": "completed"
    },
    "tags": []
   },
   "source": [
    "Extracts the Survived column into a Series y, which is the target variable that the model will learn to predict."
   ]
  },
  {
   "cell_type": "code",
   "execution_count": 10,
   "id": "c19eed9f",
   "metadata": {
    "execution": {
     "iopub.execute_input": "2025-02-25T19:29:41.592702Z",
     "iopub.status.busy": "2025-02-25T19:29:41.592297Z",
     "iopub.status.idle": "2025-02-25T19:29:41.601529Z",
     "shell.execute_reply": "2025-02-25T19:29:41.599143Z"
    },
    "papermill": {
     "duration": 0.017565,
     "end_time": "2025-02-25T19:29:41.603689",
     "exception": false,
     "start_time": "2025-02-25T19:29:41.586124",
     "status": "completed"
    },
    "tags": []
   },
   "outputs": [],
   "source": [
    "X_train, X_val, y_train, y_val = train_test_split(X, y, test_size=0.2, random_state=42)"
   ]
  },
  {
   "cell_type": "markdown",
   "id": "13139247",
   "metadata": {
    "papermill": {
     "duration": 0.004744,
     "end_time": "2025-02-25T19:29:41.613810",
     "exception": false,
     "start_time": "2025-02-25T19:29:41.609066",
     "status": "completed"
    },
    "tags": []
   },
   "source": [
    "Splits the dataset into **training and validation sets**:\n",
    "\n",
    "**X_train and y_train**: Data used to train the model.\n",
    "\n",
    "**X_val and y_val**: Data used to validate and evaluate the model’s performance.\n",
    "\n",
    "**test_size=0.2:** reserves 20% of the data for validation.\n",
    "\n",
    "**random_state=42:** ensures that the split is reproducible."
   ]
  },
  {
   "cell_type": "code",
   "execution_count": 11,
   "id": "6e6b7253",
   "metadata": {
    "execution": {
     "iopub.execute_input": "2025-02-25T19:29:41.625097Z",
     "iopub.status.busy": "2025-02-25T19:29:41.624762Z",
     "iopub.status.idle": "2025-02-25T19:29:41.630111Z",
     "shell.execute_reply": "2025-02-25T19:29:41.628825Z"
    },
    "papermill": {
     "duration": 0.012726,
     "end_time": "2025-02-25T19:29:41.631705",
     "exception": false,
     "start_time": "2025-02-25T19:29:41.618979",
     "status": "completed"
    },
    "tags": []
   },
   "outputs": [],
   "source": [
    "rf = RandomForestClassifier(n_estimators=100, random_state=42)"
   ]
  },
  {
   "cell_type": "markdown",
   "id": "8d3e4001",
   "metadata": {
    "papermill": {
     "duration": 0.005085,
     "end_time": "2025-02-25T19:29:41.642816",
     "exception": false,
     "start_time": "2025-02-25T19:29:41.637731",
     "status": "completed"
    },
    "tags": []
   },
   "source": [
    "Initializes the **RandomForestClassifier** with:\n",
    "\n",
    "**n_estimators=100:** Specifies that the forest will consist of 100 decision trees.\n",
    "\n",
    "**random_state=42:** Ensures reproducibility by fixing the randomness."
   ]
  },
  {
   "cell_type": "code",
   "execution_count": 12,
   "id": "b752b073",
   "metadata": {
    "execution": {
     "iopub.execute_input": "2025-02-25T19:29:41.654677Z",
     "iopub.status.busy": "2025-02-25T19:29:41.654341Z",
     "iopub.status.idle": "2025-02-25T19:29:41.804873Z",
     "shell.execute_reply": "2025-02-25T19:29:41.803587Z"
    },
    "papermill": {
     "duration": 0.158618,
     "end_time": "2025-02-25T19:29:41.806685",
     "exception": false,
     "start_time": "2025-02-25T19:29:41.648067",
     "status": "completed"
    },
    "tags": []
   },
   "outputs": [
    {
     "data": {
      "text/html": [
       "<style>#sk-container-id-1 {color: black;background-color: white;}#sk-container-id-1 pre{padding: 0;}#sk-container-id-1 div.sk-toggleable {background-color: white;}#sk-container-id-1 label.sk-toggleable__label {cursor: pointer;display: block;width: 100%;margin-bottom: 0;padding: 0.3em;box-sizing: border-box;text-align: center;}#sk-container-id-1 label.sk-toggleable__label-arrow:before {content: \"▸\";float: left;margin-right: 0.25em;color: #696969;}#sk-container-id-1 label.sk-toggleable__label-arrow:hover:before {color: black;}#sk-container-id-1 div.sk-estimator:hover label.sk-toggleable__label-arrow:before {color: black;}#sk-container-id-1 div.sk-toggleable__content {max-height: 0;max-width: 0;overflow: hidden;text-align: left;background-color: #f0f8ff;}#sk-container-id-1 div.sk-toggleable__content pre {margin: 0.2em;color: black;border-radius: 0.25em;background-color: #f0f8ff;}#sk-container-id-1 input.sk-toggleable__control:checked~div.sk-toggleable__content {max-height: 200px;max-width: 100%;overflow: auto;}#sk-container-id-1 input.sk-toggleable__control:checked~label.sk-toggleable__label-arrow:before {content: \"▾\";}#sk-container-id-1 div.sk-estimator input.sk-toggleable__control:checked~label.sk-toggleable__label {background-color: #d4ebff;}#sk-container-id-1 div.sk-label input.sk-toggleable__control:checked~label.sk-toggleable__label {background-color: #d4ebff;}#sk-container-id-1 input.sk-hidden--visually {border: 0;clip: rect(1px 1px 1px 1px);clip: rect(1px, 1px, 1px, 1px);height: 1px;margin: -1px;overflow: hidden;padding: 0;position: absolute;width: 1px;}#sk-container-id-1 div.sk-estimator {font-family: monospace;background-color: #f0f8ff;border: 1px dotted black;border-radius: 0.25em;box-sizing: border-box;margin-bottom: 0.5em;}#sk-container-id-1 div.sk-estimator:hover {background-color: #d4ebff;}#sk-container-id-1 div.sk-parallel-item::after {content: \"\";width: 100%;border-bottom: 1px solid gray;flex-grow: 1;}#sk-container-id-1 div.sk-label:hover label.sk-toggleable__label {background-color: #d4ebff;}#sk-container-id-1 div.sk-serial::before {content: \"\";position: absolute;border-left: 1px solid gray;box-sizing: border-box;top: 0;bottom: 0;left: 50%;z-index: 0;}#sk-container-id-1 div.sk-serial {display: flex;flex-direction: column;align-items: center;background-color: white;padding-right: 0.2em;padding-left: 0.2em;position: relative;}#sk-container-id-1 div.sk-item {position: relative;z-index: 1;}#sk-container-id-1 div.sk-parallel {display: flex;align-items: stretch;justify-content: center;background-color: white;position: relative;}#sk-container-id-1 div.sk-item::before, #sk-container-id-1 div.sk-parallel-item::before {content: \"\";position: absolute;border-left: 1px solid gray;box-sizing: border-box;top: 0;bottom: 0;left: 50%;z-index: -1;}#sk-container-id-1 div.sk-parallel-item {display: flex;flex-direction: column;z-index: 1;position: relative;background-color: white;}#sk-container-id-1 div.sk-parallel-item:first-child::after {align-self: flex-end;width: 50%;}#sk-container-id-1 div.sk-parallel-item:last-child::after {align-self: flex-start;width: 50%;}#sk-container-id-1 div.sk-parallel-item:only-child::after {width: 0;}#sk-container-id-1 div.sk-dashed-wrapped {border: 1px dashed gray;margin: 0 0.4em 0.5em 0.4em;box-sizing: border-box;padding-bottom: 0.4em;background-color: white;}#sk-container-id-1 div.sk-label label {font-family: monospace;font-weight: bold;display: inline-block;line-height: 1.2em;}#sk-container-id-1 div.sk-label-container {text-align: center;}#sk-container-id-1 div.sk-container {/* jupyter's `normalize.less` sets `[hidden] { display: none; }` but bootstrap.min.css set `[hidden] { display: none !important; }` so we also need the `!important` here to be able to override the default hidden behavior on the sphinx rendered scikit-learn.org. See: https://github.com/scikit-learn/scikit-learn/issues/21755 */display: inline-block !important;position: relative;}#sk-container-id-1 div.sk-text-repr-fallback {display: none;}</style><div id=\"sk-container-id-1\" class=\"sk-top-container\"><div class=\"sk-text-repr-fallback\"><pre>RandomForestClassifier(random_state=42)</pre><b>In a Jupyter environment, please rerun this cell to show the HTML representation or trust the notebook. <br />On GitHub, the HTML representation is unable to render, please try loading this page with nbviewer.org.</b></div><div class=\"sk-container\" hidden><div class=\"sk-item\"><div class=\"sk-estimator sk-toggleable\"><input class=\"sk-toggleable__control sk-hidden--visually\" id=\"sk-estimator-id-1\" type=\"checkbox\" checked><label for=\"sk-estimator-id-1\" class=\"sk-toggleable__label sk-toggleable__label-arrow\">RandomForestClassifier</label><div class=\"sk-toggleable__content\"><pre>RandomForestClassifier(random_state=42)</pre></div></div></div></div></div>"
      ],
      "text/plain": [
       "RandomForestClassifier(random_state=42)"
      ]
     },
     "execution_count": 12,
     "metadata": {},
     "output_type": "execute_result"
    }
   ],
   "source": [
    "rf.fit(X_train, y_train)"
   ]
  },
  {
   "cell_type": "markdown",
   "id": "327f2cf2",
   "metadata": {
    "papermill": {
     "duration": 0.00479,
     "end_time": "2025-02-25T19:29:41.817104",
     "exception": false,
     "start_time": "2025-02-25T19:29:41.812314",
     "status": "completed"
    },
    "tags": []
   },
   "source": [
    "Trains the random forest model using the training data (X_train and y_train), allowing the model to learn patterns and relationships between the features and the target variable."
   ]
  },
  {
   "cell_type": "code",
   "execution_count": 13,
   "id": "62a9ae09",
   "metadata": {
    "execution": {
     "iopub.execute_input": "2025-02-25T19:29:41.828776Z",
     "iopub.status.busy": "2025-02-25T19:29:41.828460Z",
     "iopub.status.idle": "2025-02-25T19:29:41.843725Z",
     "shell.execute_reply": "2025-02-25T19:29:41.842131Z"
    },
    "papermill": {
     "duration": 0.024513,
     "end_time": "2025-02-25T19:29:41.846658",
     "exception": false,
     "start_time": "2025-02-25T19:29:41.822145",
     "status": "completed"
    },
    "tags": []
   },
   "outputs": [
    {
     "name": "stdout",
     "output_type": "stream",
     "text": [
      "Validation Accuracy: 79.89%\n"
     ]
    }
   ],
   "source": [
    "val_accuracy = rf.score(X_val, y_val)\n",
    "print(\"Validation Accuracy: {:.2f}%\".format(val_accuracy * 100))"
   ]
  },
  {
   "cell_type": "markdown",
   "id": "71a749dd",
   "metadata": {
    "papermill": {
     "duration": 0.005097,
     "end_time": "2025-02-25T19:29:41.858304",
     "exception": false,
     "start_time": "2025-02-25T19:29:41.853207",
     "status": "completed"
    },
    "tags": []
   },
   "source": [
    "Computes the accuracy of the model on the validation set (X_val and y_val) by comparing the predicted outcomes with the actual labels."
   ]
  },
  {
   "cell_type": "code",
   "execution_count": 14,
   "id": "93c6b540",
   "metadata": {
    "execution": {
     "iopub.execute_input": "2025-02-25T19:29:41.870944Z",
     "iopub.status.busy": "2025-02-25T19:29:41.870504Z",
     "iopub.status.idle": "2025-02-25T19:29:46.702743Z",
     "shell.execute_reply": "2025-02-25T19:29:46.700341Z"
    },
    "papermill": {
     "duration": 4.841729,
     "end_time": "2025-02-25T19:29:46.705455",
     "exception": false,
     "start_time": "2025-02-25T19:29:41.863726",
     "status": "completed"
    },
    "tags": []
   },
   "outputs": [],
   "source": [
    "train_sizes, train_scores, val_scores = learning_curve(\n",
    "    estimator=rf, X=X, y=y, cv=5, scoring='accuracy', train_sizes=np.linspace(0.1, 1.0, 10), n_jobs=-1\n",
    ")"
   ]
  },
  {
   "cell_type": "markdown",
   "id": "67937cf3",
   "metadata": {
    "papermill": {
     "duration": 0.005314,
     "end_time": "2025-02-25T19:29:46.717409",
     "exception": false,
     "start_time": "2025-02-25T19:29:46.712095",
     "status": "completed"
    },
    "tags": []
   },
   "source": [
    "Uses the **learning_curve** function to compute the training and cross-validation scores for different sizes of the training set:\n",
    "\n",
    "**estimator=rf:** Uses the previously defined Random Forest model.\n",
    "\n",
    "**X, y:** Uses the full dataset for computing the curve.\n",
    "\n",
    "**cv=5:** Applies 5-fold cross-validation.\n",
    "\n",
    "**scoring='accuracy':** Uses accuracy as the evaluation metric.\n",
    "\n",
    "**train_sizes=np.linspace(0.1, 1.0, 10):** Tests 10 different training set sizes, ranging from 10% to 100% of the data.\n",
    "\n",
    "**n_jobs=-1:** Utilizes all available CPU cores to speed up computation."
   ]
  },
  {
   "cell_type": "code",
   "execution_count": 15,
   "id": "d7e35fd0",
   "metadata": {
    "execution": {
     "iopub.execute_input": "2025-02-25T19:29:46.729522Z",
     "iopub.status.busy": "2025-02-25T19:29:46.729138Z",
     "iopub.status.idle": "2025-02-25T19:29:46.735760Z",
     "shell.execute_reply": "2025-02-25T19:29:46.733850Z"
    },
    "papermill": {
     "duration": 0.015397,
     "end_time": "2025-02-25T19:29:46.738129",
     "exception": false,
     "start_time": "2025-02-25T19:29:46.722732",
     "status": "completed"
    },
    "tags": []
   },
   "outputs": [],
   "source": [
    "train_scores_mean = np.mean(train_scores, axis=1)\n",
    "val_scores_mean = np.mean(val_scores, axis=1)"
   ]
  },
  {
   "cell_type": "markdown",
   "id": "72080cc1",
   "metadata": {
    "papermill": {
     "duration": 0.005182,
     "end_time": "2025-02-25T19:29:46.749772",
     "exception": false,
     "start_time": "2025-02-25T19:29:46.744590",
     "status": "completed"
    },
    "tags": []
   },
   "source": [
    "Calculates the mean training score for each training set size by averaging the scores obtained from the 5-fold cross-validation (axis=1 averages over the folds).\n",
    "Calculates the mean cross-validation (validation) score for each training set size by averaging the scores over the folds."
   ]
  },
  {
   "cell_type": "code",
   "execution_count": 16,
   "id": "b74b10cd",
   "metadata": {
    "execution": {
     "iopub.execute_input": "2025-02-25T19:29:46.762069Z",
     "iopub.status.busy": "2025-02-25T19:29:46.761667Z",
     "iopub.status.idle": "2025-02-25T19:29:47.070308Z",
     "shell.execute_reply": "2025-02-25T19:29:47.068408Z"
    },
    "papermill": {
     "duration": 0.316718,
     "end_time": "2025-02-25T19:29:47.072049",
     "exception": false,
     "start_time": "2025-02-25T19:29:46.755331",
     "status": "completed"
    },
    "tags": []
   },
   "outputs": [
    {
     "data": {
      "image/png": "[encoded data removed]",
      "text/plain": [
       "<Figure size 1000x600 with 1 Axes>"
      ]
     },
     "metadata": {},
     "output_type": "display_data"
    }
   ],
   "source": [
    "plt.figure(figsize=(10, 6))\n",
    "plt.plot(train_sizes, train_scores_mean, 'o-', color='r', label=\"Training Score\")\n",
    "plt.plot(train_sizes, val_scores_mean, 'o-', color='g', label=\"Cross-Validation Score\")\n",
    "plt.xlabel(\"Number of Training Examples\")\n",
    "plt.ylabel(\"Accuracy\")\n",
    "plt.legend(loc=\"best\")\n",
    "plt.grid(True)\n",
    "plt.show()"
   ]
  },
  {
   "cell_type": "markdown",
   "id": "96970413",
   "metadata": {
    "papermill": {
     "duration": 0.005541,
     "end_time": "2025-02-25T19:29:47.083673",
     "exception": false,
     "start_time": "2025-02-25T19:29:47.078132",
     "status": "completed"
    },
    "tags": []
   },
   "source": [
    "Displays the final plot, rendering the learning curve for the Random Forest model on the Titanic dataset."
   ]
  }
 ],
 "metadata": {
  "kaggle": {
   "accelerator": "none",
   "dataSources": [
    {
     "databundleVersionId": 26502,
     "sourceId": 3136,
     "sourceType": "competition"
    }
   ],
   "dockerImageVersionId": 30918,
   "isGpuEnabled": false,
   "isInternetEnabled": true,
   "language": "python",
   "sourceType": "notebook"
  },
  "kernelspec": {
   "display_name": "Python 3",
   "language": "python",
   "name": "python3"
  },
  "language_info": {
   "codemirror_mode": {
    "name": "ipython",
    "version": 3
   },
   "file_extension": ".py",
   "mimetype": "text/x-python",
   "name": "python",
   "nbconvert_exporter": "python",
   "pygments_lexer": "ipython3",
   "version": "3.10.12"
  },
  "papermill": {
   "default_parameters": {},
   "duration": 13.644638,
   "end_time": "2025-02-25T19:29:48.016587",
   "environment_variables": {},
   "exception": null,
   "input_path": "__notebook__.ipynb",
   "output_path": "__notebook__.ipynb",
   "parameters": {},
   "start_time": "2025-02-25T19:29:34.371949",
   "version": "2.6.0"
  }
 },
 "nbformat": 4,
 "nbformat_minor": 5
}
